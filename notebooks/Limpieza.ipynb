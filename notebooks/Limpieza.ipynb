{
 "cells": [
  {
   "cell_type": "code",
   "execution_count": 1,
   "metadata": {},
   "outputs": [
    {
     "data": {
      "application/vnd.jupyter.widget-view+json": {
       "model_id": "ec6208b4ed004b56ba36105765ff7603",
       "version_major": 2,
       "version_minor": 0
      },
      "text/plain": [
       "VBox()"
      ]
     },
     "metadata": {},
     "output_type": "display_data"
    },
    {
     "name": "stdout",
     "output_type": "stream",
     "text": [
      "Starting Spark application\n"
     ]
    },
    {
     "data": {
      "text/html": [
       "<table>\n",
       "<tr><th>ID</th><th>YARN Application ID</th><th>Kind</th><th>State</th><th>Spark UI</th><th>Driver log</th><th>Current session?</th></tr><tr><td>5</td><td>application_1607211789834_0007</td><td>pyspark</td><td>idle</td><td><a target=\"_blank\" href=\"http://ip-172-31-21-72.ec2.internal:20888/proxy/application_1607211789834_0007/\">Link</a></td><td><a target=\"_blank\" href=\"http://ip-172-31-23-163.ec2.internal:8042/node/containerlogs/container_1607211789834_0007_01_000001/livy\">Link</a></td><td>✔</td></tr></table>"
      ],
      "text/plain": [
       "<IPython.core.display.HTML object>"
      ]
     },
     "metadata": {},
     "output_type": "display_data"
    },
    {
     "data": {
      "application/vnd.jupyter.widget-view+json": {
       "model_id": "",
       "version_major": 2,
       "version_minor": 0
      },
      "text/plain": [
       "FloatProgress(value=0.0, bar_style='info', description='Progress:', layout=Layout(height='25px', width='50%'),…"
      ]
     },
     "metadata": {},
     "output_type": "display_data"
    },
    {
     "name": "stdout",
     "output_type": "stream",
     "text": [
      "SparkSession available as 'spark'.\n"
     ]
    },
    {
     "data": {
      "application/vnd.jupyter.widget-view+json": {
       "model_id": "",
       "version_major": 2,
       "version_minor": 0
      },
      "text/plain": [
       "FloatProgress(value=0.0, bar_style='info', description='Progress:', layout=Layout(height='25px', width='50%'),…"
      ]
     },
     "metadata": {},
     "output_type": "display_data"
    }
   ],
   "source": [
    "from pyspark.sql import SparkSession\n",
    "from pyspark.sql.functions import udf\n",
    "from pyspark.sql.functions import to_timestamp"
   ]
  },
  {
   "cell_type": "code",
   "execution_count": 2,
   "metadata": {},
   "outputs": [
    {
     "data": {
      "application/vnd.jupyter.widget-view+json": {
       "model_id": "e0deb9d2d8a54cb6b236c2d0dbf1fdd0",
       "version_major": 2,
       "version_minor": 0
      },
      "text/plain": [
       "VBox()"
      ]
     },
     "metadata": {},
     "output_type": "display_data"
    },
    {
     "data": {
      "application/vnd.jupyter.widget-view+json": {
       "model_id": "",
       "version_major": 2,
       "version_minor": 0
      },
      "text/plain": [
       "FloatProgress(value=0.0, bar_style='info', description='Progress:', layout=Layout(height='25px', width='50%'),…"
      ]
     },
     "metadata": {},
     "output_type": "display_data"
    }
   ],
   "source": [
    "spark=SparkSession.builder.appName('data_cleaning').getOrCreate()\n",
    "\n",
    "# obtención de datos crudos\n",
    "raw_df=spark.read.csv('s3://covid19-bd-bucket/data/raw/Casos-COVID_19-Colombia.csv',inferSchema=True,header=True)"
   ]
  },
  {
   "cell_type": "code",
   "execution_count": 3,
   "metadata": {},
   "outputs": [
    {
     "data": {
      "application/vnd.jupyter.widget-view+json": {
       "model_id": "b30119bace7b46e9af150194ae20dee0",
       "version_major": 2,
       "version_minor": 0
      },
      "text/plain": [
       "VBox()"
      ]
     },
     "metadata": {},
     "output_type": "display_data"
    },
    {
     "data": {
      "application/vnd.jupyter.widget-view+json": {
       "model_id": "",
       "version_major": 2,
       "version_minor": 0
      },
      "text/plain": [
       "FloatProgress(value=0.0, bar_style='info', description='Progress:', layout=Layout(height='25px', width='50%'),…"
      ]
     },
     "metadata": {},
     "output_type": "display_data"
    },
    {
     "name": "stdout",
     "output_type": "stream",
     "text": [
      "root\n",
      " |-- fecha reporte web: string (nullable = true)\n",
      " |-- ID de caso: integer (nullable = true)\n",
      " |-- Fecha de notificación: string (nullable = true)\n",
      " |-- Código DIVIPOLA departamento: integer (nullable = true)\n",
      " |-- Nombre departamento: string (nullable = true)\n",
      " |-- Código DIVIPOLA municipio: integer (nullable = true)\n",
      " |-- Nombre municipio: string (nullable = true)\n",
      " |-- Edad: integer (nullable = true)\n",
      " |-- Unidad de medida de edad: integer (nullable = true)\n",
      " |-- Sexo: string (nullable = true)\n",
      " |-- Tipo de contagio: string (nullable = true)\n",
      " |-- Ubicación del caso: string (nullable = true)\n",
      " |-- Estado: string (nullable = true)\n",
      " |-- Código ISO del país: integer (nullable = true)\n",
      " |-- Nombre del país: string (nullable = true)\n",
      " |-- Recuperado: string (nullable = true)\n",
      " |-- Fecha de inicio de síntomas: string (nullable = true)\n",
      " |-- Fecha de muerte: string (nullable = true)\n",
      " |-- Fecha de diagnóstico: string (nullable = true)\n",
      " |-- Fecha de recuperación: string (nullable = true)\n",
      " |-- Tipo de recuperación: string (nullable = true)\n",
      " |-- Pertenencia étnica: integer (nullable = true)\n",
      " |-- Nombre del grupo étnico: string (nullable = true)"
     ]
    }
   ],
   "source": [
    "# Lista de campos\n",
    "raw_df.printSchema()"
   ]
  },
  {
   "cell_type": "markdown",
   "metadata": {},
   "source": [
    "# Inicio de pre-procesado de datos\n",
    "Lista de posibles valores de cada campo. Se omitirán las columnas de fechas ya que se sabe que estos campos solo van a tener fechas o elementos nulos y además hay muchos resultados como para analizarlos de esta manera"
   ]
  },
  {
   "cell_type": "code",
   "execution_count": 4,
   "metadata": {},
   "outputs": [
    {
     "data": {
      "application/vnd.jupyter.widget-view+json": {
       "model_id": "4ba73e53df4e48bea544b729d3bdf52e",
       "version_major": 2,
       "version_minor": 0
      },
      "text/plain": [
       "VBox()"
      ]
     },
     "metadata": {},
     "output_type": "display_data"
    },
    {
     "data": {
      "application/vnd.jupyter.widget-view+json": {
       "model_id": "",
       "version_major": 2,
       "version_minor": 0
      },
      "text/plain": [
       "FloatProgress(value=0.0, bar_style='info', description='Progress:', layout=Layout(height='25px', width='50%'),…"
      ]
     },
     "metadata": {},
     "output_type": "display_data"
    },
    {
     "name": "stdout",
     "output_type": "stream",
     "text": [
      "+----------+\n",
      "|ID de caso|\n",
      "+----------+\n",
      "|       148|\n",
      "|       496|\n",
      "|       833|\n",
      "|      1088|\n",
      "|      1342|\n",
      "|      1591|\n",
      "|      2122|\n",
      "|      2366|\n",
      "|      3918|\n",
      "|      4101|\n",
      "|      4519|\n",
      "|      6357|\n",
      "|      7880|\n",
      "|      8638|\n",
      "|      9465|\n",
      "|      9852|\n",
      "|     10206|\n",
      "|     10362|\n",
      "|     10623|\n",
      "|     10817|\n",
      "+----------+\n",
      "only showing top 20 rows\n",
      "\n",
      "+----------------------------+\n",
      "|Código DIVIPOLA departamento|\n",
      "+----------------------------+\n",
      "|                          81|\n",
      "|                          76|\n",
      "|                           8|\n",
      "|                          11|\n",
      "|                          99|\n",
      "|                          66|\n",
      "|                          85|\n",
      "|                          44|\n",
      "|                          91|\n",
      "|                          94|\n",
      "|                          54|\n",
      "|                          19|\n",
      "|                          23|\n",
      "|                          70|\n",
      "|                          95|\n",
      "|                          47|\n",
      "|                          52|\n",
      "|                          20|\n",
      "|                           5|\n",
      "|                          15|\n",
      "+----------------------------+\n",
      "only showing top 20 rows\n",
      "\n",
      "+-------------------+\n",
      "|Nombre departamento|\n",
      "+-------------------+\n",
      "|           CASANARE|\n",
      "|          ANTIOQUIA|\n",
      "|       CUNDINAMARCA|\n",
      "|           PUTUMAYO|\n",
      "|              VALLE|\n",
      "|             NARIÑO|\n",
      "|              CAUCA|\n",
      "|            VICHADA|\n",
      "|            QUINDIO|\n",
      "|              HUILA|\n",
      "|              SUCRE|\n",
      "|              CESAR|\n",
      "|          SANTANDER|\n",
      "|            CAQUETA|\n",
      "|           AMAZONAS|\n",
      "|    NORTE SANTANDER|\n",
      "|              CHOCO|\n",
      "|             CALDAS|\n",
      "|          RISARALDA|\n",
      "|               META|\n",
      "+-------------------+\n",
      "only showing top 20 rows\n",
      "\n",
      "+-------------------------+\n",
      "|Código DIVIPOLA municipio|\n",
      "+-------------------------+\n",
      "|                     8638|\n",
      "|                    41530|\n",
      "|                     5308|\n",
      "|                    66594|\n",
      "|                     5697|\n",
      "|                    25862|\n",
      "|                    15491|\n",
      "|                     5038|\n",
      "|                    76403|\n",
      "|                    25599|\n",
      "|                    76828|\n",
      "|                    41006|\n",
      "|                    44430|\n",
      "|                    19001|\n",
      "|                    13052|\n",
      "|                    41306|\n",
      "|                    52435|\n",
      "|                    25793|\n",
      "|                    23807|\n",
      "|                    15599|\n",
      "+-------------------------+\n",
      "only showing top 20 rows\n",
      "\n",
      "+----------------+\n",
      "|Nombre municipio|\n",
      "+----------------+\n",
      "|          PAICOL|\n",
      "|    ANSERMANUEVO|\n",
      "|         GARAGOA|\n",
      "|          PELAYA|\n",
      "|    PURIFICACION|\n",
      "|            GAMA|\n",
      "|   PUERTO NARIÑO|\n",
      "|         TAMESIS|\n",
      "|           FUNZA|\n",
      "|          RETIRO|\n",
      "|           SUPIA|\n",
      "|          BAGADO|\n",
      "|        CERTEGUI|\n",
      "|            PORE|\n",
      "| BELEN DE BAJIRA|\n",
      "|           NEIRA|\n",
      "|         CAICEDO|\n",
      "|        PINILLOS|\n",
      "|       RIOBLANCO|\n",
      "|      SAN MARCOS|\n",
      "+----------------+\n",
      "only showing top 20 rows\n",
      "\n",
      "+----+\n",
      "|Edad|\n",
      "+----+\n",
      "|  65|\n",
      "|  81|\n",
      "|  76|\n",
      "|  12|\n",
      "|   1|\n",
      "|   6|\n",
      "|   3|\n",
      "|  92|\n",
      "|  64|\n",
      "|  37|\n",
      "|  61|\n",
      "| 107|\n",
      "|  35|\n",
      "|   4|\n",
      "|   8|\n",
      "|  87|\n",
      "|  60|\n",
      "|  90|\n",
      "|  33|\n",
      "|  11|\n",
      "+----+\n",
      "only showing top 20 rows\n",
      "\n",
      "+------------------------+\n",
      "|Unidad de medida de edad|\n",
      "+------------------------+\n",
      "|                       1|\n",
      "|                       3|\n",
      "|                       4|\n",
      "|                       2|\n",
      "+------------------------+\n",
      "\n",
      "+----+\n",
      "|Sexo|\n",
      "+----+\n",
      "|   M|\n",
      "|   F|\n",
      "+----+\n",
      "\n",
      "+----------------+\n",
      "|Tipo de contagio|\n",
      "+----------------+\n",
      "|       Importado|\n",
      "|      En Estudio|\n",
      "|      En estudio|\n",
      "|     Relacionado|\n",
      "|      EN ESTUDIO|\n",
      "+----------------+\n",
      "\n",
      "+------------------+\n",
      "|Ubicación del caso|\n",
      "+------------------+\n",
      "|              CASA|\n",
      "|      Hospital UCI|\n",
      "|              Casa|\n",
      "|         Fallecido|\n",
      "|          Hospital|\n",
      "|               N/A|\n",
      "|              casa|\n",
      "+------------------+\n",
      "\n",
      "+---------+\n",
      "|   Estado|\n",
      "+---------+\n",
      "| moderado|\n",
      "|     Leve|\n",
      "|    Grave|\n",
      "|Fallecido|\n",
      "| Moderado|\n",
      "|      N/A|\n",
      "+---------+\n",
      "\n",
      "+-------------------+\n",
      "|Código ISO del país|\n",
      "+-------------------+\n",
      "|                756|\n",
      "|                300|\n",
      "|                 76|\n",
      "|                192|\n",
      "|               null|\n",
      "|                250|\n",
      "|                620|\n",
      "|                840|\n",
      "|                191|\n",
      "|                484|\n",
      "|                531|\n",
      "|                533|\n",
      "|                404|\n",
      "|                320|\n",
      "|                591|\n",
      "|                818|\n",
      "|                 36|\n",
      "|                604|\n",
      "|                792|\n",
      "|                826|\n",
      "+-------------------+\n",
      "only showing top 20 rows\n",
      "\n",
      "+--------------------+\n",
      "|     Nombre del país|\n",
      "+--------------------+\n",
      "|        ARABIA SAUDÍ|\n",
      "|                null|\n",
      "|             FRANCIA|\n",
      "|            HONDURAS|\n",
      "|              GRECIA|\n",
      "|ESTADOS UNIDOS DE...|\n",
      "|              CANADÁ|\n",
      "|REPUBLICA DOCIMIN...|\n",
      "|REINO UNIDO DE GR...|\n",
      "|              SUECIA|\n",
      "|REPÚBLICA DOMINICANA|\n",
      "|               CHILE|\n",
      "|             JAMAICA|\n",
      "|             CROACIA|\n",
      "|             TURQUÍA|\n",
      "|             BÉLGICA|\n",
      "|             CURAZAO|\n",
      "|              ITALIA|\n",
      "|ESTADOS UNIDOS DE...|\n",
      "|              ISRAEL|\n",
      "+--------------------+\n",
      "only showing top 20 rows\n",
      "\n",
      "+----------+\n",
      "|Recuperado|\n",
      "+----------+\n",
      "|Recuperado|\n",
      "| fallecido|\n",
      "|    Activo|\n",
      "| Fallecido|\n",
      "|       N/A|\n",
      "+----------+\n",
      "\n",
      "+--------------------+\n",
      "|Tipo de recuperación|\n",
      "+--------------------+\n",
      "|                null|\n",
      "|              Tiempo|\n",
      "|                 PCR|\n",
      "+--------------------+\n",
      "\n",
      "+------------------+\n",
      "|Pertenencia étnica|\n",
      "+------------------+\n",
      "|              null|\n",
      "|                 1|\n",
      "|                 6|\n",
      "|                 3|\n",
      "|                 5|\n",
      "|                 2|\n",
      "+------------------+\n",
      "\n",
      "+-----------------------+\n",
      "|Nombre del grupo étnico|\n",
      "+-----------------------+\n",
      "|         PITAL DE MEGUA|\n",
      "|                  KOF-N|\n",
      "|        WOUNAAN_WAUNANA|\n",
      "|                 Cocama|\n",
      "|                 Desano|\n",
      "|                Puinave|\n",
      "|   PUERTO VAUPES-ZON...|\n",
      "|               CHAQUITA|\n",
      "|         CRUZ DEL BEQUE|\n",
      "|             MACUCICHON|\n",
      "|     YAWACAT (YAGUACAT)|\n",
      "|   SANTA RITA DE INA...|\n",
      "|   MITUSEðO - ZONA A...|\n",
      "|   NASA KWE'SX TATA ...|\n",
      "|    PIRACEMO- ZONA UDIC|\n",
      "|                ISMUINA|\n",
      "|      RIONEGRO HERMOSAS|\n",
      "|                MINITAS|\n",
      "|                 OLIRCO|\n",
      "|    TAYAZU-ZONA AATICAM|\n",
      "+-----------------------+\n",
      "only showing top 20 rows"
     ]
    }
   ],
   "source": [
    "raw_df.select(\"ID de caso\").distinct().show()\n",
    "raw_df.select(\"Código DIVIPOLA departamento\").distinct().show()\n",
    "raw_df.select(\"Nombre departamento\").distinct().show()\n",
    "raw_df.select(\"Código DIVIPOLA municipio\").distinct().show()\n",
    "raw_df.select(\"Nombre municipio\").distinct().show()\n",
    "raw_df.select(\"Edad\").distinct().show()\n",
    "raw_df.select(\"Unidad de medida de edad\").distinct().show()\n",
    "raw_df.select(\"Sexo\").distinct().show()\n",
    "raw_df.select(\"Tipo de contagio\").distinct().show()\n",
    "raw_df.select(\"Ubicación del caso\").distinct().show()\n",
    "raw_df.select(\"Estado\").distinct().show()\n",
    "raw_df.select(\"Código ISO del país\").distinct().show()\n",
    "raw_df.select(\"Nombre del país\").distinct().show()\n",
    "raw_df.select(\"Recuperado\").distinct().show()\n",
    "raw_df.select(\"Tipo de recuperación\").distinct().show()\n",
    "raw_df.select(\"Pertenencia étnica\").distinct().show()\n",
    "raw_df.select(\"Nombre del grupo étnico\").distinct().show()"
   ]
  },
  {
   "cell_type": "code",
   "execution_count": 5,
   "metadata": {},
   "outputs": [
    {
     "data": {
      "application/vnd.jupyter.widget-view+json": {
       "model_id": "3adef23ed65a4791a83107d5352e24ed",
       "version_major": 2,
       "version_minor": 0
      },
      "text/plain": [
       "VBox()"
      ]
     },
     "metadata": {},
     "output_type": "display_data"
    },
    {
     "data": {
      "application/vnd.jupyter.widget-view+json": {
       "model_id": "",
       "version_major": 2,
       "version_minor": 0
      },
      "text/plain": [
       "FloatProgress(value=0.0, bar_style='info', description='Progress:', layout=Layout(height='25px', width='50%'),…"
      ]
     },
     "metadata": {},
     "output_type": "display_data"
    },
    {
     "name": "stdout",
     "output_type": "stream",
     "text": [
      "Row(fecha reporte web='6/3/2020 0:00:00')"
     ]
    }
   ],
   "source": [
    "# Aquí se va a imprimir el primer valor de fecha reporte web\n",
    "# para ver como es el formato de fecas que se usan\n",
    "\n",
    "raw_df.select('fecha reporte web').head()"
   ]
  },
  {
   "cell_type": "markdown",
   "metadata": {},
   "source": [
    "## Homogeneización de valores\n",
    "En esta parte se van a corregir los valores que sean distintos pero que representen el mismo valor\n",
    "los valores de fechas nulos no se van a tocar y se entenderan como valores desconocidos."
   ]
  },
  {
   "cell_type": "markdown",
   "metadata": {},
   "source": [
    "### Cambio de tipos\n",
    "Hay algunas columnas que tienen datos que se pueden simplificar a un tipo de dato más sencillo debido a que el formato actual no solo consume más memoria y procesamiento sino que además dificulta el posterior análisis del mismo. Otro posible caso es cuándo un tipo de dato se analiza mejor estando en otro formato cómo por ejemplo las fechas que se procesan mejor estando en formato **datetime** en vez de en formato **string**. Las columnas que van a pasar por el cambio de tipo de dato son:\n",
    "- Recuperado\n",
    "- fecha reporte web\n",
    "- Fecha de notificación\n",
    "- Fecha de inicio de síntomas\n",
    "- Fecha de muerte\n",
    "- Fecha de diagnóstico\n",
    "- Fecha de recuperación"
   ]
  },
  {
   "cell_type": "code",
   "execution_count": 6,
   "metadata": {},
   "outputs": [
    {
     "data": {
      "application/vnd.jupyter.widget-view+json": {
       "model_id": "eb062dd7276a4b98be1b1bffb5378614",
       "version_major": 2,
       "version_minor": 0
      },
      "text/plain": [
       "VBox()"
      ]
     },
     "metadata": {},
     "output_type": "display_data"
    },
    {
     "data": {
      "application/vnd.jupyter.widget-view+json": {
       "model_id": "",
       "version_major": 2,
       "version_minor": 0
      },
      "text/plain": [
       "FloatProgress(value=0.0, bar_style='info', description='Progress:', layout=Layout(height='25px', width='50%'),…"
      ]
     },
     "metadata": {},
     "output_type": "display_data"
    }
   ],
   "source": [
    "from datetime import datetime\n",
    "\n",
    "@udf\n",
    "def recuperadoToBool(recuperado):\n",
    "    recuperado = recuperado.upper()\n",
    "    if(recuperado == \"RECUPERADO\"):\n",
    "        return True\n",
    "    elif(recuperado == 'N/A'):\n",
    "        return None\n",
    "    else:\n",
    "        return False\n",
    " \n",
    "\n",
    "raw_df = raw_df.withColumn('fecha reporte web', to_timestamp(raw_df['fecha reporte web'], \"d/M/yyyy H:mm:ss\"))\n",
    "raw_df = raw_df.withColumn('Fecha de notificación', to_timestamp(raw_df['Fecha de notificación'], \"d/M/yyyy H:mm:ss\"))\n",
    "raw_df = raw_df.withColumn('Fecha de inicio de síntomas', to_timestamp(raw_df['Fecha de inicio de síntomas'], \"d/M/yyyy H:mm:ss\"))\n",
    "raw_df = raw_df.withColumn('Fecha de muerte', to_timestamp(raw_df['Fecha de muerte'], \"d/M/yyyy H:mm:ss\"))\n",
    "raw_df = raw_df.withColumn('Fecha de diagnóstico', to_timestamp(raw_df['Fecha de diagnóstico'], \"d/M/yyyy H:mm:ss\"))\n",
    "raw_df = raw_df.withColumn('Fecha de recuperación', to_timestamp(raw_df['Fecha de recuperación'], \"d/M/yyyy H:mm:ss\"))\n",
    "\n",
    "raw_df = raw_df.withColumn('Recuperado', recuperadoToBool(raw_df['Recuperado']))"
   ]
  },
  {
   "cell_type": "code",
   "execution_count": 7,
   "metadata": {},
   "outputs": [
    {
     "data": {
      "application/vnd.jupyter.widget-view+json": {
       "model_id": "256442039ed74329a39972e81b8d876b",
       "version_major": 2,
       "version_minor": 0
      },
      "text/plain": [
       "VBox()"
      ]
     },
     "metadata": {},
     "output_type": "display_data"
    },
    {
     "data": {
      "application/vnd.jupyter.widget-view+json": {
       "model_id": "",
       "version_major": 2,
       "version_minor": 0
      },
      "text/plain": [
       "FloatProgress(value=0.0, bar_style='info', description='Progress:', layout=Layout(height='25px', width='50%'),…"
      ]
     },
     "metadata": {},
     "output_type": "display_data"
    },
    {
     "name": "stdout",
     "output_type": "stream",
     "text": [
      "Row(fecha reporte web=datetime.datetime(2020, 3, 6, 0, 0))\n",
      "Row(Fecha de notificación=datetime.datetime(2020, 3, 2, 0, 0))\n",
      "Row(Fecha de inicio de síntomas=datetime.datetime(2020, 2, 27, 0, 0))\n",
      "Row(Fecha de muerte=None)\n",
      "Row(Fecha de diagnóstico=datetime.datetime(2020, 3, 6, 0, 0))\n",
      "Row(Fecha de recuperación=datetime.datetime(2020, 3, 13, 0, 0))\n",
      "+----------+\n",
      "|Recuperado|\n",
      "+----------+\n",
      "|      null|\n",
      "|      true|\n",
      "|     false|\n",
      "+----------+"
     ]
    }
   ],
   "source": [
    "print(raw_df.select('fecha reporte web').head())\n",
    "print(raw_df.select('Fecha de notificación').head())\n",
    "print(raw_df.select('Fecha de inicio de síntomas').head())\n",
    "print(raw_df.select('Fecha de muerte').head())\n",
    "print(raw_df.select('Fecha de diagnóstico').head())\n",
    "print(raw_df.select('Fecha de recuperación').head())\n",
    "\n",
    "raw_df.select('Recuperado').distinct().show()"
   ]
  },
  {
   "cell_type": "markdown",
   "metadata": {},
   "source": [
    "### mezcla de letras mayúsculas y minúsculas\n",
    "hay columnas que cuentan con valores distintos pero que representan lo mismo (mezcla de letras maypusculas y minúsculas) por lo que se va a pasar a mover todo a mayúsculas\n",
    "una opción sería mover todo a números pero esto podría dificultar el análisis posterior\n",
    "Las columnas que van a pasar por este proceso son:\n",
    "- Tipo de contagio\n",
    "- Ubicación del caso\n",
    "- Estado"
   ]
  },
  {
   "cell_type": "code",
   "execution_count": 8,
   "metadata": {},
   "outputs": [
    {
     "data": {
      "application/vnd.jupyter.widget-view+json": {
       "model_id": "0d148ff83a994b1ca1aa10aecaf0e5d2",
       "version_major": 2,
       "version_minor": 0
      },
      "text/plain": [
       "VBox()"
      ]
     },
     "metadata": {},
     "output_type": "display_data"
    },
    {
     "data": {
      "application/vnd.jupyter.widget-view+json": {
       "model_id": "",
       "version_major": 2,
       "version_minor": 0
      },
      "text/plain": [
       "FloatProgress(value=0.0, bar_style='info', description='Progress:', layout=Layout(height='25px', width='50%'),…"
      ]
     },
     "metadata": {},
     "output_type": "display_data"
    },
    {
     "name": "stdout",
     "output_type": "stream",
     "text": [
      "+----------------+\n",
      "|Tipo de contagio|\n",
      "+----------------+\n",
      "|     RELACIONADO|\n",
      "|       IMPORTADO|\n",
      "|      EN ESTUDIO|\n",
      "+----------------+\n",
      "\n",
      "+------------------+\n",
      "|Ubicación del caso|\n",
      "+------------------+\n",
      "|              CASA|\n",
      "|          HOSPITAL|\n",
      "|         FALLECIDO|\n",
      "|      HOSPITAL UCI|\n",
      "|               N/A|\n",
      "+------------------+\n",
      "\n",
      "+---------+\n",
      "|   Estado|\n",
      "+---------+\n",
      "|FALLECIDO|\n",
      "|    GRAVE|\n",
      "|     LEVE|\n",
      "| MODERADO|\n",
      "|      N/A|\n",
      "+---------+"
     ]
    }
   ],
   "source": [
    "@udf\n",
    "def toUppercase(string):\n",
    "    return string.upper()\n",
    "\n",
    "raw_df = raw_df.withColumn('Tipo de contagio',toUppercase(raw_df['Tipo de contagio']))\n",
    "raw_df = raw_df.withColumn('Ubicación del caso',toUppercase(raw_df['Ubicación del caso']))\n",
    "raw_df = raw_df.withColumn('Estado',toUppercase(raw_df['Estado']))\n",
    "\n",
    "raw_df.select('Tipo de contagio').distinct().show()\n",
    "raw_df.select('Ubicación del caso').distinct().show()\n",
    "raw_df.select('Estado').distinct().show()"
   ]
  },
  {
   "cell_type": "markdown",
   "metadata": {},
   "source": [
    "## Guardado de datos\n",
    "Una vez ya se han limpiado los datos, se van a guardar en la ruta **data/curated** del bucket en s3"
   ]
  },
  {
   "cell_type": "code",
   "execution_count": 11,
   "metadata": {},
   "outputs": [
    {
     "data": {
      "application/vnd.jupyter.widget-view+json": {
       "model_id": "c71029c60a86435a887449d188233d0f",
       "version_major": 2,
       "version_minor": 0
      },
      "text/plain": [
       "VBox()"
      ]
     },
     "metadata": {},
     "output_type": "display_data"
    },
    {
     "data": {
      "application/vnd.jupyter.widget-view+json": {
       "model_id": "",
       "version_major": 2,
       "version_minor": 0
      },
      "text/plain": [
       "FloatProgress(value=0.0, bar_style='info', description='Progress:', layout=Layout(height='25px', width='50%'),…"
      ]
     },
     "metadata": {},
     "output_type": "display_data"
    }
   ],
   "source": [
    "URI = sc._gateway.jvm.java.net.URI \n",
    "Path = sc._gateway.jvm.org.apache.hadoop.fs.Path \n",
    "FileSystem = sc._gateway.jvm.org.apache.hadoop.fs.FileSystem \n",
    "\n",
    "fs = FileSystem.get(URI(\"s3n://covid19-bd-bucket\"), sc._jsc.hadoopConfiguration()) \n",
    "fs.delete(Path(\"s3n://covid19-bd-bucket/data/curated/Casos-COVID_19-Colombia/\")) \n",
    "raw_df.write.save(\"s3://covid19-bd-bucket/data/curated/Casos-COVID_19-Colombia\", format='csv', header=True)"
   ]
  }
 ],
 "metadata": {
  "kernelspec": {
   "display_name": "PySpark",
   "language": "",
   "name": "pysparkkernel"
  },
  "language_info": {
   "codemirror_mode": {
    "name": "python",
    "version": 2
   },
   "mimetype": "text/x-python",
   "name": "pyspark",
   "pygments_lexer": "python2"
  }
 },
 "nbformat": 4,
 "nbformat_minor": 4
}
