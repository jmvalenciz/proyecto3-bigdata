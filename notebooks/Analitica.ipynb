{
 "cells": [
  {
   "cell_type": "code",
   "execution_count": 1,
   "metadata": {},
   "outputs": [
    {
     "data": {
      "application/vnd.jupyter.widget-view+json": {
       "model_id": "ef8513a4a233456483fb576a1b58a84b",
       "version_major": 2,
       "version_minor": 0
      },
      "text/plain": [
       "VBox()"
      ]
     },
     "metadata": {},
     "output_type": "display_data"
    },
    {
     "name": "stdout",
     "output_type": "stream",
     "text": [
      "Starting Spark application\n"
     ]
    },
    {
     "data": {
      "text/html": [
       "<table>\n",
       "<tr><th>ID</th><th>YARN Application ID</th><th>Kind</th><th>State</th><th>Spark UI</th><th>Driver log</th><th>Current session?</th></tr><tr><td>1</td><td>application_1607282582075_0003</td><td>pyspark</td><td>idle</td><td><a target=\"_blank\" href=\"http://ip-172-31-25-159.ec2.internal:20888/proxy/application_1607282582075_0003/\">Link</a></td><td><a target=\"_blank\" href=\"http://ip-172-31-22-78.ec2.internal:8042/node/containerlogs/container_1607282582075_0003_01_000001/livy\">Link</a></td><td>✔</td></tr></table>"
      ],
      "text/plain": [
       "<IPython.core.display.HTML object>"
      ]
     },
     "metadata": {},
     "output_type": "display_data"
    },
    {
     "data": {
      "application/vnd.jupyter.widget-view+json": {
       "model_id": "",
       "version_major": 2,
       "version_minor": 0
      },
      "text/plain": [
       "FloatProgress(value=0.0, bar_style='info', description='Progress:', layout=Layout(height='25px', width='50%'),…"
      ]
     },
     "metadata": {},
     "output_type": "display_data"
    },
    {
     "name": "stdout",
     "output_type": "stream",
     "text": [
      "SparkSession available as 'spark'.\n"
     ]
    },
    {
     "data": {
      "application/vnd.jupyter.widget-view+json": {
       "model_id": "",
       "version_major": 2,
       "version_minor": 0
      },
      "text/plain": [
       "FloatProgress(value=0.0, bar_style='info', description='Progress:', layout=Layout(height='25px', width='50%'),…"
      ]
     },
     "metadata": {},
     "output_type": "display_data"
    }
   ],
   "source": [
    "from pyspark.sql import SparkSession\n",
    "from pyspark.sql.functions import udf, date_format, round, count, col, to_timestamp"
   ]
  },
  {
   "cell_type": "code",
   "execution_count": 2,
   "metadata": {},
   "outputs": [
    {
     "data": {
      "application/vnd.jupyter.widget-view+json": {
       "model_id": "d6e707c423034378be7f2c8d7035333e",
       "version_major": 2,
       "version_minor": 0
      },
      "text/plain": [
       "VBox()"
      ]
     },
     "metadata": {},
     "output_type": "display_data"
    },
    {
     "data": {
      "application/vnd.jupyter.widget-view+json": {
       "model_id": "",
       "version_major": 2,
       "version_minor": 0
      },
      "text/plain": [
       "FloatProgress(value=0.0, bar_style='info', description='Progress:', layout=Layout(height='25px', width='50%'),…"
      ]
     },
     "metadata": {},
     "output_type": "display_data"
    }
   ],
   "source": [
    "spark=SparkSession.builder.appName('data_analytics').getOrCreate()\n",
    "df=spark.read.csv('s3://covid19-bd-bucket/data/curated/Casos-COVID_19-Colombia/*.csv',inferSchema=True,header=True)"
   ]
  },
  {
   "cell_type": "code",
   "execution_count": 3,
   "metadata": {},
   "outputs": [
    {
     "data": {
      "application/vnd.jupyter.widget-view+json": {
       "model_id": "da0bb4ae822f4031ae9ae3c07586169a",
       "version_major": 2,
       "version_minor": 0
      },
      "text/plain": [
       "VBox()"
      ]
     },
     "metadata": {},
     "output_type": "display_data"
    },
    {
     "data": {
      "application/vnd.jupyter.widget-view+json": {
       "model_id": "",
       "version_major": 2,
       "version_minor": 0
      },
      "text/plain": [
       "FloatProgress(value=0.0, bar_style='info', description='Progress:', layout=Layout(height='25px', width='50%'),…"
      ]
     },
     "metadata": {},
     "output_type": "display_data"
    },
    {
     "name": "stdout",
     "output_type": "stream",
     "text": [
      "root\n",
      " |-- fecha reporte web: timestamp (nullable = true)\n",
      " |-- ID de caso: integer (nullable = true)\n",
      " |-- Fecha de notificación: timestamp (nullable = true)\n",
      " |-- Código DIVIPOLA departamento: integer (nullable = true)\n",
      " |-- Nombre departamento: string (nullable = true)\n",
      " |-- Código DIVIPOLA municipio: integer (nullable = true)\n",
      " |-- Nombre municipio: string (nullable = true)\n",
      " |-- Edad: integer (nullable = true)\n",
      " |-- Unidad de medida de edad: integer (nullable = true)\n",
      " |-- Sexo: string (nullable = true)\n",
      " |-- Tipo de contagio: string (nullable = true)\n",
      " |-- Ubicación del caso: string (nullable = true)\n",
      " |-- Estado: string (nullable = true)\n",
      " |-- Código ISO del país: integer (nullable = true)\n",
      " |-- Nombre del país: string (nullable = true)\n",
      " |-- Recuperado: boolean (nullable = true)\n",
      " |-- Fecha de inicio de síntomas: timestamp (nullable = true)\n",
      " |-- Fecha de muerte: timestamp (nullable = true)\n",
      " |-- Fecha de diagnóstico: timestamp (nullable = true)\n",
      " |-- Fecha de recuperación: timestamp (nullable = true)\n",
      " |-- Tipo de recuperación: string (nullable = true)\n",
      " |-- Pertenencia étnica: integer (nullable = true)\n",
      " |-- Nombre del grupo étnico: string (nullable = true)"
     ]
    }
   ],
   "source": [
    "df.printSchema()"
   ]
  },
  {
   "cell_type": "code",
   "execution_count": 4,
   "metadata": {},
   "outputs": [
    {
     "data": {
      "application/vnd.jupyter.widget-view+json": {
       "model_id": "7fbbe435275949e6a9dd4fa6a4ae67e9",
       "version_major": 2,
       "version_minor": 0
      },
      "text/plain": [
       "VBox()"
      ]
     },
     "metadata": {},
     "output_type": "display_data"
    },
    {
     "data": {
      "application/vnd.jupyter.widget-view+json": {
       "model_id": "",
       "version_major": 2,
       "version_minor": 0
      },
      "text/plain": [
       "FloatProgress(value=0.0, bar_style='info', description='Progress:', layout=Layout(height='25px', width='50%'),…"
      ]
     },
     "metadata": {},
     "output_type": "display_data"
    },
    {
     "name": "stdout",
     "output_type": "stream",
     "text": [
      "(1343322, 23)\n",
      "+-------+------------------+----------------------------+-------------------+-------------------------+----------------+------------------+------------------------+-------+----------------+------------------+---------+-------------------+---------------+--------------------+------------------+-----------------------+\n",
      "|summary|        ID de caso|Código DIVIPOLA departamento|Nombre departamento|Código DIVIPOLA municipio|Nombre municipio|              Edad|Unidad de medida de edad|   Sexo|Tipo de contagio|Ubicación del caso|   Estado|Código ISO del país|Nombre del país|Tipo de recuperación|Pertenencia étnica|Nombre del grupo étnico|\n",
      "+-------+------------------+----------------------------+-------------------+-------------------------+----------------+------------------+------------------------+-------+----------------+------------------+---------+-------------------+---------------+--------------------+------------------+-----------------------+\n",
      "|  count|           1343322|                     1343322|            1343322|                  1343322|         1343322|           1343322|                 1343322|1343322|         1343322|           1343322|  1343322|                950|            950|             1233115|           1280486|                  17097|\n",
      "|   mean| 671701.3696180067|          1104.8494031959574|               null|        28590.01605720743|            null| 39.87038699582081|      1.0047084764486847|   null|            null|              null|     null|  596.4863157894737|           null|                null| 5.864532685246071|                    1.0|\n",
      "| stddev|387784.02858901146|           5303.491342865674|               null|        26332.11797330278|            null|18.057811103057958|     0.07597157332342731|   null|            null|              null|     null| 257.33361903955137|           null|                null|0.7235963544526266|                    NaN|\n",
      "|    min|                 1|                           5|           AMAZONAS|                     5001|       ABEJORRAL|                 1|                       1|      F|      EN ESTUDIO|              CASA|FALLECIDO|                 32|       ALEMANIA|                 PCR|                 1|                      1|\n",
      "|    max|           1343362|                       47001|            VICHADA|                    99773| puerto COLOMBIA|               114|                       4|      M|     RELACIONADO|               N/A|      N/A|                862|      VENEZUELA|              Tiempo|                 6|     ðUPANA-ZONA ASATIQ|\n",
      "+-------+------------------+----------------------------+-------------------+-------------------------+----------------+------------------+------------------------+-------+----------------+------------------+---------+-------------------+---------------+--------------------+------------------+-----------------------+"
     ]
    }
   ],
   "source": [
    "# shape\n",
    "print((df.count(), len(df.columns)))\n",
    "df.describe().show()"
   ]
  },
  {
   "cell_type": "code",
   "execution_count": 5,
   "metadata": {},
   "outputs": [
    {
     "data": {
      "application/vnd.jupyter.widget-view+json": {
       "model_id": "7735f878efd14854b9c93bd4a4c54cf0",
       "version_major": 2,
       "version_minor": 0
      },
      "text/plain": [
       "VBox()"
      ]
     },
     "metadata": {},
     "output_type": "display_data"
    },
    {
     "data": {
      "application/vnd.jupyter.widget-view+json": {
       "model_id": "",
       "version_major": 2,
       "version_minor": 0
      },
      "text/plain": [
       "FloatProgress(value=0.0, bar_style='info', description='Progress:', layout=Layout(height='25px', width='50%'),…"
      ]
     },
     "metadata": {},
     "output_type": "display_data"
    }
   ],
   "source": [
    "# preparar sistema para eliminar datos para poder sobreescribir\n",
    "URI = sc._gateway.jvm.java.net.URI \n",
    "Path = sc._gateway.jvm.org.apache.hadoop.fs.Path \n",
    "FileSystem = sc._gateway.jvm.org.apache.hadoop.fs.FileSystem \n",
    "\n",
    "fs = FileSystem.get(URI(\"s3n://covid19-bd-bucket\"), sc._jsc.hadoopConfiguration())"
   ]
  },
  {
   "cell_type": "markdown",
   "metadata": {},
   "source": [
    "# exploratory-data-analysis"
   ]
  },
  {
   "cell_type": "code",
   "execution_count": 6,
   "metadata": {},
   "outputs": [
    {
     "data": {
      "application/vnd.jupyter.widget-view+json": {
       "model_id": "be8fe1540d3c4480af730743b70a8b2a",
       "version_major": 2,
       "version_minor": 0
      },
      "text/plain": [
       "VBox()"
      ]
     },
     "metadata": {},
     "output_type": "display_data"
    },
    {
     "data": {
      "application/vnd.jupyter.widget-view+json": {
       "model_id": "",
       "version_major": 2,
       "version_minor": 0
      },
      "text/plain": [
       "FloatProgress(value=0.0, bar_style='info', description='Progress:', layout=Layout(height='25px', width='50%'),…"
      ]
     },
     "metadata": {},
     "output_type": "display_data"
    },
    {
     "name": "stdout",
     "output_type": "stream",
     "text": [
      "+--------------------+------+\n",
      "|Fecha de diagnóstico| count|\n",
      "+--------------------+------+\n",
      "|                null|  4289|\n",
      "| 2020-03-01 00:00:00|   908|\n",
      "| 2020-04-01 00:00:00|  5592|\n",
      "| 2020-05-01 00:00:00| 23014|\n",
      "| 2020-06-01 00:00:00| 68705|\n",
      "| 2020-07-01 00:00:00|216333|\n",
      "| 2020-08-01 00:00:00|315543|\n",
      "| 2020-09-01 00:00:00|220478|\n",
      "| 2020-10-01 00:00:00|247286|\n",
      "| 2020-11-01 00:00:00|235081|\n",
      "| 2020-12-01 00:00:00|  6093|\n",
      "+--------------------+------+"
     ]
    }
   ],
   "source": [
    "# Aquí se va a listar la cantidad de contagios por mes\n",
    "fecha_df = df.select('Fecha de diagnóstico')\n",
    "contagios_por_mes = fecha_df.groupBy(date_format(df['Fecha de diagnóstico'], 'y-M').alias('Fecha de diagnóstico'))\n",
    "contagios_por_mes = contagios_por_mes.count()\n",
    "contagios_por_mes = contagios_por_mes.withColumn('Fecha de diagnóstico', to_timestamp(contagios_por_mes['Fecha de diagnóstico'], \"y-M\"))\n",
    "contagios_por_mes = contagios_por_mes.orderBy('Fecha de diagnóstico')\n",
    "contagios_por_mes.show()\n",
    "\n",
    "# guardado de datos nuevos\n",
    "fs.delete(Path(\"s3n://covid19-bd-bucket/data/refined/contagios_por_mes\"))\n",
    "contagios_por_mes.write.save(\"s3://covid19-bd-bucket/data/refined/contagios_por_mes\", format='csv', header=False)"
   ]
  },
  {
   "cell_type": "code",
   "execution_count": 7,
   "metadata": {},
   "outputs": [
    {
     "data": {
      "application/vnd.jupyter.widget-view+json": {
       "model_id": "2af6f33b4ffd4d2d8ce4ee941c1401b0",
       "version_major": 2,
       "version_minor": 0
      },
      "text/plain": [
       "VBox()"
      ]
     },
     "metadata": {},
     "output_type": "display_data"
    },
    {
     "data": {
      "application/vnd.jupyter.widget-view+json": {
       "model_id": "",
       "version_major": 2,
       "version_minor": 0
      },
      "text/plain": [
       "FloatProgress(value=0.0, bar_style='info', description='Progress:', layout=Layout(height='25px', width='50%'),…"
      ]
     },
     "metadata": {},
     "output_type": "display_data"
    },
    {
     "name": "stdout",
     "output_type": "stream",
     "text": [
      "+---------------------+------+\n",
      "|Fecha de recuperación| count|\n",
      "+---------------------+------+\n",
      "|                 null|110207|\n",
      "|  2020-03-01 00:00:00|   201|\n",
      "|  2020-04-01 00:00:00|  2046|\n",
      "|  2020-05-01 00:00:00|  8459|\n",
      "|  2020-06-01 00:00:00| 33648|\n",
      "|  2020-07-01 00:00:00|109382|\n",
      "|  2020-08-01 00:00:00|299994|\n",
      "|  2020-09-01 00:00:00|282372|\n",
      "|  2020-10-01 00:00:00|226452|\n",
      "|  2020-11-01 00:00:00|247693|\n",
      "|  2020-12-01 00:00:00| 22868|\n",
      "+---------------------+------+"
     ]
    }
   ],
   "source": [
    "# Aquí se va a listar la cantidad de recuperaciones por mes\n",
    "fecha_recuperacion_df = df.select('Fecha de recuperación')\n",
    "recuperaciones_por_mes = fecha_recuperacion_df.groupBy(date_format(df['Fecha de recuperación'], 'y-M').alias('Fecha de recuperación'))\n",
    "recuperaciones_por_mes = recuperaciones_por_mes.count()\n",
    "recuperaciones_por_mes = recuperaciones_por_mes.withColumn('Fecha de recuperación', to_timestamp(recuperaciones_por_mes['Fecha de recuperación'], \"y-M\"))\n",
    "recuperaciones_por_mes = recuperaciones_por_mes.orderBy('Fecha de recuperación')\n",
    "recuperaciones_por_mes.show()\n",
    "\n",
    "# guardado de datos nuevos\n",
    "fs.delete(Path(\"s3n://covid19-bd-bucket/data/refined/recuperaciones_por_mes\"))\n",
    "recuperaciones_por_mes.write.save(\"s3://covid19-bd-bucket/data/refined/recuperaciones_por_mes\", format='csv', header=False)"
   ]
  },
  {
   "cell_type": "code",
   "execution_count": 8,
   "metadata": {},
   "outputs": [
    {
     "data": {
      "application/vnd.jupyter.widget-view+json": {
       "model_id": "c37fbdbedbf4417b916951024e01be5b",
       "version_major": 2,
       "version_minor": 0
      },
      "text/plain": [
       "VBox()"
      ]
     },
     "metadata": {},
     "output_type": "display_data"
    },
    {
     "data": {
      "application/vnd.jupyter.widget-view+json": {
       "model_id": "",
       "version_major": 2,
       "version_minor": 0
      },
      "text/plain": [
       "FloatProgress(value=0.0, bar_style='info', description='Progress:', layout=Layout(height='25px', width='50%'),…"
      ]
     },
     "metadata": {},
     "output_type": "display_data"
    },
    {
     "name": "stdout",
     "output_type": "stream",
     "text": [
      "+---------------+------+\n",
      "|   Departamento| count|\n",
      "+---------------+------+\n",
      "|         BOGOTA|382704|\n",
      "|      ANTIOQUIA|218131|\n",
      "|          VALLE|111017|\n",
      "|      SANTANDER| 54535|\n",
      "|   CUNDINAMARCA| 53678|\n",
      "|   BARRANQUILLA| 45922|\n",
      "|      ATLANTICO| 33151|\n",
      "|      CARTAGENA| 32299|\n",
      "|          HUILA| 30563|\n",
      "|         TOLIMA| 30528|\n",
      "|          CESAR| 30177|\n",
      "|NORTE SANTANDER| 29911|\n",
      "|           META| 28764|\n",
      "|        CORDOBA| 28438|\n",
      "|         CALDAS| 25921|\n",
      "|         NARIÑO| 25882|\n",
      "|      RISARALDA| 24034|\n",
      "|         BOYACA| 22411|\n",
      "|        QUINDIO| 17724|\n",
      "|          SUCRE| 16653|\n",
      "+---------------+------+\n",
      "only showing top 20 rows"
     ]
    }
   ],
   "source": [
    "# Nivel de contagio por departamento\n",
    "departamento_df = df.select('Nombre departamento')\n",
    "contagios_por_departamento = departamento_df.groupBy(col('Nombre departamento').alias('Departamento'))\n",
    "contagios_por_departamento = contagios_por_departamento.count()\n",
    "contagios_por_departamento = contagios_por_departamento.orderBy(col('count').desc())\n",
    "contagios_por_departamento.show()\n",
    "\n",
    "# guardado de datos nuevos\n",
    "fs.delete(Path(\"s3n://covid19-bd-bucket/data/refined/contagios_por_departamento\"))\n",
    "contagios_por_departamento.write.save(\"s3://covid19-bd-bucket/data/refined/contagios_por_departamento\", format='csv', header=False)"
   ]
  },
  {
   "cell_type": "code",
   "execution_count": 9,
   "metadata": {},
   "outputs": [
    {
     "data": {
      "application/vnd.jupyter.widget-view+json": {
       "model_id": "9cb4c6513e6f4e3a8e466a7bbee048e0",
       "version_major": 2,
       "version_minor": 0
      },
      "text/plain": [
       "VBox()"
      ]
     },
     "metadata": {},
     "output_type": "display_data"
    },
    {
     "data": {
      "application/vnd.jupyter.widget-view+json": {
       "model_id": "",
       "version_major": 2,
       "version_minor": 0
      },
      "text/plain": [
       "FloatProgress(value=0.0, bar_style='info', description='Progress:', layout=Layout(height='25px', width='50%'),…"
      ]
     },
     "metadata": {},
     "output_type": "display_data"
    },
    {
     "name": "stdout",
     "output_type": "stream",
     "text": [
      "+----+-----+\n",
      "|Edad|count|\n",
      "+----+-----+\n",
      "|  30|35470|\n",
      "|  29|35069|\n",
      "|  28|35031|\n",
      "|  27|34207|\n",
      "|  26|33989|\n",
      "|  31|33944|\n",
      "|  25|32545|\n",
      "|  32|32527|\n",
      "|  33|31822|\n",
      "|  35|31640|\n",
      "|  34|31599|\n",
      "|  24|30696|\n",
      "|  36|30014|\n",
      "|  38|29540|\n",
      "|  37|29230|\n",
      "|  39|28358|\n",
      "|  40|28041|\n",
      "|  23|27849|\n",
      "|  41|25728|\n",
      "|  22|24890|\n",
      "+----+-----+\n",
      "only showing top 20 rows"
     ]
    }
   ],
   "source": [
    "# Nivel de contagio por edad\n",
    "edad_df = df.select('Edad')\n",
    "contagio_por_edad = edad_df.groupBy(col('Edad'))\n",
    "contagio_por_edad = contagio_por_edad.count()\n",
    "contagio_por_edad = contagio_por_edad.orderBy(col('count').desc())\n",
    "contagio_por_edad.show()\n",
    "\n",
    "# guardado de datos nuevos\n",
    "fs.delete(Path(\"s3n://covid19-bd-bucket/data/refined/contagio_por_edad\"))\n",
    "contagio_por_edad.write.save(\"s3://covid19-bd-bucket/data/refined/contagio_por_edad\", format='csv', header=False)"
   ]
  },
  {
   "cell_type": "code",
   "execution_count": 10,
   "metadata": {},
   "outputs": [
    {
     "data": {
      "application/vnd.jupyter.widget-view+json": {
       "model_id": "bebd8caca3ee4b838a619bae1b2f3a42",
       "version_major": 2,
       "version_minor": 0
      },
      "text/plain": [
       "VBox()"
      ]
     },
     "metadata": {},
     "output_type": "display_data"
    },
    {
     "data": {
      "application/vnd.jupyter.widget-view+json": {
       "model_id": "",
       "version_major": 2,
       "version_minor": 0
      },
      "text/plain": [
       "FloatProgress(value=0.0, bar_style='info', description='Progress:', layout=Layout(height='25px', width='50%'),…"
      ]
     },
     "metadata": {},
     "output_type": "display_data"
    },
    {
     "name": "stdout",
     "output_type": "stream",
     "text": [
      "+----------------+-------+\n",
      "|Tipo de contagio|  count|\n",
      "+----------------+-------+\n",
      "|     RELACIONADO| 121921|\n",
      "|       IMPORTADO|    918|\n",
      "|      EN ESTUDIO|1220483|\n",
      "+----------------+-------+"
     ]
    }
   ],
   "source": [
    "# Tipo de contagio\n",
    "tipo_contagio_df = df.select('Tipo de contagio')\n",
    "tipo_de_contagio = tipo_contagio_df.groupBy(col('Tipo de contagio'))\n",
    "tipo_de_contagio = tipo_de_contagio.count()\n",
    "tipo_de_contagio.show()\n",
    "\n",
    "# guardado de datos nuevos\n",
    "fs.delete(Path(\"s3n://covid19-bd-bucket/data/refined/tipo_de_contagio\"))\n",
    "tipo_de_contagio.write.save(\"s3://covid19-bd-bucket/data/refined/tipo_de_contagio\", format='csv', header=False)"
   ]
  },
  {
   "cell_type": "code",
   "execution_count": 12,
   "metadata": {},
   "outputs": [
    {
     "data": {
      "application/vnd.jupyter.widget-view+json": {
       "model_id": "023e6a811ef546b69883a5e4c2728e87",
       "version_major": 2,
       "version_minor": 0
      },
      "text/plain": [
       "VBox()"
      ]
     },
     "metadata": {},
     "output_type": "display_data"
    },
    {
     "data": {
      "application/vnd.jupyter.widget-view+json": {
       "model_id": "",
       "version_major": 2,
       "version_minor": 0
      },
      "text/plain": [
       "FloatProgress(value=0.0, bar_style='info', description='Progress:', layout=Layout(height='25px', width='50%'),…"
      ]
     },
     "metadata": {},
     "output_type": "display_data"
    },
    {
     "name": "stdout",
     "output_type": "stream",
     "text": [
      "+----+------+\n",
      "|Sexo| count|\n",
      "+----+------+\n",
      "|   M|668803|\n",
      "|   F|674519|\n",
      "+----+------+"
     ]
    }
   ],
   "source": [
    "# Contagio segun sexo\n",
    "sexo_df = df.select('Sexo')\n",
    "contagio_segun_sexo = sexo_df.groupBy(col('Sexo'))\n",
    "contagio_segun_sexo = contagio_segun_sexo.count()\n",
    "contagio_segun_sexo.show()\n",
    "\n",
    "# guardado de datos nuevos\n",
    "fs.delete(Path(\"s3n://covid19-bd-bucket/data/refined/contagio_segun_sexo\"))\n",
    "contagio_segun_sexo.coalesce(1).write.save(\"s3://covid19-bd-bucket/data/refined/contagio_segun_sexo\", format='csv', header=False)"
   ]
  }
 ],
 "metadata": {
  "kernelspec": {
   "display_name": "PySpark",
   "language": "",
   "name": "pysparkkernel"
  },
  "language_info": {
   "codemirror_mode": {
    "name": "python",
    "version": 2
   },
   "mimetype": "text/x-python",
   "name": "pyspark",
   "pygments_lexer": "python2"
  }
 },
 "nbformat": 4,
 "nbformat_minor": 4
}
